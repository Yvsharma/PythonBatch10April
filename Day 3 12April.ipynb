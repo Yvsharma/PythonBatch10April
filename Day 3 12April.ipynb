{
 "cells": [
  {
   "cell_type": "markdown",
   "id": "fda7af89",
   "metadata": {},
   "source": [
    "# User input"
   ]
  },
  {
   "cell_type": "code",
   "execution_count": 1,
   "id": "bd23f25e",
   "metadata": {},
   "outputs": [
    {
     "name": "stdout",
     "output_type": "stream",
     "text": [
      "5\n",
      "5\n"
     ]
    }
   ],
   "source": [
    "num=input()\n",
    "print(num)"
   ]
  },
  {
   "cell_type": "code",
   "execution_count": 3,
   "id": "0228b133",
   "metadata": {},
   "outputs": [
    {
     "name": "stdout",
     "output_type": "stream",
     "text": [
      "5\n",
      "your no. is =  5\n"
     ]
    }
   ],
   "source": [
    "num=input()\n",
    "print('your no. is = ',num)"
   ]
  },
  {
   "cell_type": "code",
   "execution_count": 4,
   "id": "32de9afe",
   "metadata": {},
   "outputs": [
    {
     "name": "stdout",
     "output_type": "stream",
     "text": [
      "enter a number = 12\n",
      "your no. is =  12\n"
     ]
    }
   ],
   "source": [
    "num=input('enter a number = ')\n",
    "print('your no. is = ',num)"
   ]
  },
  {
   "cell_type": "code",
   "execution_count": 5,
   "id": "0c1e32cf",
   "metadata": {},
   "outputs": [
    {
     "name": "stdout",
     "output_type": "stream",
     "text": [
      "15\n"
     ]
    }
   ],
   "source": [
    "a=5\n",
    "b=10\n",
    "c=a+b\n",
    "print(c)"
   ]
  },
  {
   "cell_type": "code",
   "execution_count": 10,
   "id": "c00b01ba",
   "metadata": {},
   "outputs": [
    {
     "name": "stdout",
     "output_type": "stream",
     "text": [
      "enter first no. = 5\n",
      "enter second no. = 10\n",
      "sum of fist and second no. is =  510\n"
     ]
    }
   ],
   "source": [
    "a=input('enter first no. = ')\n",
    "b=input('enter second no. = ')\n",
    "c=a+b\n",
    "print('sum of fist and second no. is = ',c)"
   ]
  },
  {
   "cell_type": "code",
   "execution_count": 9,
   "id": "f4beaf85",
   "metadata": {},
   "outputs": [
    {
     "name": "stdout",
     "output_type": "stream",
     "text": [
      "enter first no. = 5\n",
      "enter second no. = 10\n",
      "sum of fist and second no. is =  15\n"
     ]
    }
   ],
   "source": [
    "a=int(input('enter first no. = '))\n",
    "b=int(input('enter second no. = '))\n",
    "c=a+b\n",
    "print('sum of fist and second no. is = ',c)"
   ]
  },
  {
   "cell_type": "markdown",
   "id": "e985c37a",
   "metadata": {},
   "source": [
    "# wap to find students perst. \n",
    "hint:- first ver no. , total no. , find %"
   ]
  },
  {
   "cell_type": "code",
   "execution_count": 11,
   "id": "46bdb7b5",
   "metadata": {},
   "outputs": [
    {
     "name": "stdout",
     "output_type": "stream",
     "text": [
      "per. is =  30.0\n"
     ]
    }
   ],
   "source": [
    "number=30\n",
    "total_num=100\n",
    "per=number/total_num*100\n",
    "print(\"per. is = \",per)"
   ]
  },
  {
   "cell_type": "code",
   "execution_count": 12,
   "id": "8af6766e",
   "metadata": {},
   "outputs": [
    {
     "name": "stdout",
     "output_type": "stream",
     "text": [
      "enter no. = 325\n",
      "enter total no. = 500\n",
      "per. is =  65.0\n"
     ]
    }
   ],
   "source": [
    "number=int(input('enter no. = '))\n",
    "total_num=int(input('enter total no. = '))\n",
    "per=number/total_num*100\n",
    "print(\"per. is = \",per)"
   ]
  },
  {
   "cell_type": "code",
   "execution_count": 13,
   "id": "f4ec42df",
   "metadata": {},
   "outputs": [
    {
     "data": {
      "text/plain": [
       "True"
      ]
     },
     "execution_count": 13,
     "metadata": {},
     "output_type": "execute_result"
    }
   ],
   "source": [
    "5>2"
   ]
  },
  {
   "cell_type": "code",
   "execution_count": 14,
   "id": "a393c2bb",
   "metadata": {},
   "outputs": [
    {
     "data": {
      "text/plain": [
       "False"
      ]
     },
     "execution_count": 14,
     "metadata": {},
     "output_type": "execute_result"
    }
   ],
   "source": [
    "2>5"
   ]
  },
  {
   "cell_type": "markdown",
   "id": "bfd4db9f",
   "metadata": {},
   "source": [
    "# If else condition"
   ]
  },
  {
   "cell_type": "code",
   "execution_count": 16,
   "id": "ebe206d0",
   "metadata": {},
   "outputs": [],
   "source": [
    "a=2\n",
    "b=5\n",
    "if a>b:\n",
    "    print('a is greater')"
   ]
  },
  {
   "cell_type": "code",
   "execution_count": 17,
   "id": "36ddfb55",
   "metadata": {},
   "outputs": [
    {
     "name": "stdout",
     "output_type": "stream",
     "text": [
      "a is greater\n"
     ]
    }
   ],
   "source": [
    "a=5\n",
    "b=2\n",
    "if a>b:\n",
    "    print('a is greater')"
   ]
  },
  {
   "cell_type": "code",
   "execution_count": 18,
   "id": "8e0453c0",
   "metadata": {},
   "outputs": [
    {
     "name": "stdout",
     "output_type": "stream",
     "text": [
      "ok\n"
     ]
    }
   ],
   "source": [
    "a=2\n",
    "b=5\n",
    "if a>b:\n",
    "    print('a is greater')\n",
    "print('ok')"
   ]
  },
  {
   "cell_type": "code",
   "execution_count": 19,
   "id": "2511312b",
   "metadata": {},
   "outputs": [
    {
     "name": "stdout",
     "output_type": "stream",
     "text": [
      "b is greater\n"
     ]
    }
   ],
   "source": [
    "a=2\n",
    "b=5\n",
    "if a>b:\n",
    "    print('a is greater')\n",
    "else:\n",
    "    print('b is greater')"
   ]
  },
  {
   "cell_type": "markdown",
   "id": "1d7e2c3d",
   "metadata": {},
   "source": [
    "# Use of AND and OR and NOT"
   ]
  },
  {
   "cell_type": "markdown",
   "id": "0d92b986",
   "metadata": {},
   "source": [
    "AND = when all conditions are true\n",
    "\n",
    "OR = when any of the condition is true"
   ]
  },
  {
   "cell_type": "code",
   "execution_count": 20,
   "id": "d97837d4",
   "metadata": {},
   "outputs": [
    {
     "data": {
      "text/plain": [
       "True"
      ]
     },
     "execution_count": 20,
     "metadata": {},
     "output_type": "execute_result"
    }
   ],
   "source": [
    "5>2 and 5>4"
   ]
  },
  {
   "cell_type": "code",
   "execution_count": 21,
   "id": "fe7ec2d9",
   "metadata": {},
   "outputs": [
    {
     "data": {
      "text/plain": [
       "False"
      ]
     },
     "execution_count": 21,
     "metadata": {},
     "output_type": "execute_result"
    }
   ],
   "source": [
    "5>2 and 5>7"
   ]
  },
  {
   "cell_type": "code",
   "execution_count": 22,
   "id": "a450bea0",
   "metadata": {},
   "outputs": [
    {
     "data": {
      "text/plain": [
       "True"
      ]
     },
     "execution_count": 22,
     "metadata": {},
     "output_type": "execute_result"
    }
   ],
   "source": [
    "5>2 or 5>7"
   ]
  },
  {
   "cell_type": "code",
   "execution_count": 23,
   "id": "36f030ce",
   "metadata": {},
   "outputs": [
    {
     "data": {
      "text/plain": [
       "True"
      ]
     },
     "execution_count": 23,
     "metadata": {},
     "output_type": "execute_result"
    }
   ],
   "source": [
    "5>2 or 5>4"
   ]
  },
  {
   "cell_type": "code",
   "execution_count": 39,
   "id": "bde44c9e",
   "metadata": {},
   "outputs": [
    {
     "name": "stdout",
     "output_type": "stream",
     "text": [
      "a is greater\n"
     ]
    }
   ],
   "source": [
    "a=5\n",
    "b=2\n",
    "if not a>b:\n",
    "    print('b is greater')\n",
    "else:\n",
    "    print('a is greater')"
   ]
  },
  {
   "cell_type": "code",
   "execution_count": 24,
   "id": "ce69c6e5",
   "metadata": {},
   "outputs": [
    {
     "name": "stdout",
     "output_type": "stream",
     "text": [
      "b is greatest\n"
     ]
    }
   ],
   "source": [
    "# WAP to find greatest no. out of 3\n",
    "a=2\n",
    "b=3\n",
    "c=1\n",
    "if a>b and a>c:\n",
    "    print('a is greatest')\n",
    "elif b>a and b>c:\n",
    "    print('b is greatest')\n",
    "else:\n",
    "    print('c is greatest')"
   ]
  },
  {
   "cell_type": "code",
   "execution_count": 25,
   "id": "6a6d22b5",
   "metadata": {},
   "outputs": [
    {
     "name": "stdout",
     "output_type": "stream",
     "text": [
      "a is smallest\n"
     ]
    }
   ],
   "source": [
    "# short hand\n",
    "a=5\n",
    "b=200\n",
    "if a<b:print('a is smallest')"
   ]
  },
  {
   "cell_type": "code",
   "execution_count": 26,
   "id": "192ceef5",
   "metadata": {},
   "outputs": [
    {
     "name": "stdout",
     "output_type": "stream",
     "text": [
      "a is smallest\n"
     ]
    }
   ],
   "source": [
    "a,b=5,200\n",
    "if a<b:print('a is smallest')"
   ]
  },
  {
   "cell_type": "code",
   "execution_count": 27,
   "id": "90283c3b",
   "metadata": {},
   "outputs": [
    {
     "name": "stdout",
     "output_type": "stream",
     "text": [
      "5\n"
     ]
    }
   ],
   "source": [
    "print(a)"
   ]
  },
  {
   "cell_type": "code",
   "execution_count": 28,
   "id": "060e1387",
   "metadata": {},
   "outputs": [
    {
     "name": "stdout",
     "output_type": "stream",
     "text": [
      "b\n"
     ]
    }
   ],
   "source": [
    "a,b=5,200\n",
    "print('a') if a>b else print('b');"
   ]
  },
  {
   "cell_type": "markdown",
   "id": "e8065555",
   "metadata": {},
   "source": [
    "# WAP to find the given 2 no is equal or greater than other."
   ]
  },
  {
   "cell_type": "code",
   "execution_count": null,
   "id": "74d200ac",
   "metadata": {},
   "outputs": [],
   "source": [
    "# comparision operator\n",
    "\n",
    "> Greater than\n",
    "< less than\n",
    ">= greater than equal \n",
    "<=\n",
    "== equal\n",
    "!= not equal"
   ]
  },
  {
   "cell_type": "code",
   "execution_count": 36,
   "id": "899c8c9b",
   "metadata": {},
   "outputs": [
    {
     "name": "stdout",
     "output_type": "stream",
     "text": [
      "Enter 1st no. = 8\n",
      "Enter 2nd no. = 25\n",
      "25  is greatest\n"
     ]
    }
   ],
   "source": [
    "num1 = int(input('Enter 1st no. = '))\n",
    "num2 = int(input('Enter 2nd no. = '))\n",
    "if num1>num2:\n",
    "    print(num1,\" is greatest\")\n",
    "elif num2==0 and num1==0:\n",
    "    print(\"both are zero\")\n",
    "elif num2>num1:\n",
    "    print(num2,\" is greatest\")\n",
    "else:\n",
    "    print('both are equal')"
   ]
  },
  {
   "cell_type": "code",
   "execution_count": 38,
   "id": "bcabe004",
   "metadata": {},
   "outputs": [
    {
     "name": "stdout",
     "output_type": "stream",
     "text": [
      "Enter 1st no. = 0\n",
      "Enter 2nd no. = 25\n",
      "one no. is zero\n"
     ]
    }
   ],
   "source": [
    "num1 = int(input('Enter 1st no. = '))\n",
    "num2 = int(input('Enter 2nd no. = '))\n",
    "if num1>num2:\n",
    "    print(num1,\" is greatest\")\n",
    "elif num2==0 or num1==0:\n",
    "    print(\"one no. is zero\")\n",
    "elif num2>num1:\n",
    "    print(num2,\" is greatest\")\n",
    "else:\n",
    "    print('both are equal')"
   ]
  },
  {
   "cell_type": "markdown",
   "id": "90e9deff",
   "metadata": {},
   "source": [
    "# WAP for a class test in pass , fail, dist. on the basuis of marks.\n",
    "\n",
    "condition:- total marks is 100, is marks is less than 25 result if fail, marks is 25-80 pass and >80 dist. , if entered no. is greater than 100 output :- \"please enter valid marks\""
   ]
  },
  {
   "cell_type": "code",
   "execution_count": null,
   "id": "2190b955",
   "metadata": {},
   "outputs": [],
   "source": []
  }
 ],
 "metadata": {
  "kernelspec": {
   "display_name": "Python 3 (ipykernel)",
   "language": "python",
   "name": "python3"
  },
  "language_info": {
   "codemirror_mode": {
    "name": "ipython",
    "version": 3
   },
   "file_extension": ".py",
   "mimetype": "text/x-python",
   "name": "python",
   "nbconvert_exporter": "python",
   "pygments_lexer": "ipython3",
   "version": "3.9.12"
  }
 },
 "nbformat": 4,
 "nbformat_minor": 5
}
